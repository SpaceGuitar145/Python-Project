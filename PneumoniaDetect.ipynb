{
  "nbformat": 4,
  "nbformat_minor": 0,
  "metadata": {
    "colab": {
      "name": "PneumoniaDetect.ipynb",
      "provenance": [],
      "collapsed_sections": [],
      "toc_visible": true,
      "machine_shape": "hm"
    },
    "kernelspec": {
      "name": "python3",
      "display_name": "Python 3"
    },
    "accelerator": "GPU"
  },
  "cells": [
    {
      "cell_type": "markdown",
      "metadata": {
        "id": "i-fes2Zjw5b9",
        "colab_type": "text"
      },
      "source": [
        "Add google disk"
      ]
    },
    {
      "cell_type": "code",
      "metadata": {
        "id": "cGdGmTl-sKXm",
        "colab_type": "code",
        "colab": {
          "base_uri": "https://localhost:8080/",
          "height": 122
        },
        "outputId": "ade4ca90-4877-450c-f7db-29df40c8b1ee"
      },
      "source": [
        "from google.colab import drive\n",
        "drive.mount('/content/gdrive')"
      ],
      "execution_count": null,
      "outputs": [
        {
          "output_type": "stream",
          "text": [
            "Go to this URL in a browser: https://accounts.google.com/o/oauth2/auth?client_id=947318989803-6bn6qk8qdgf4n4g3pfee6491hc0brc4i.apps.googleusercontent.com&redirect_uri=urn%3aietf%3awg%3aoauth%3a2.0%3aoob&response_type=code&scope=email%20https%3a%2f%2fwww.googleapis.com%2fauth%2fdocs.test%20https%3a%2f%2fwww.googleapis.com%2fauth%2fdrive%20https%3a%2f%2fwww.googleapis.com%2fauth%2fdrive.photos.readonly%20https%3a%2f%2fwww.googleapis.com%2fauth%2fpeopleapi.readonly\n",
            "\n",
            "Enter your authorization code:\n",
            "··········\n",
            "Mounted at /content/gdrive\n"
          ],
          "name": "stdout"
        }
      ]
    },
    {
      "cell_type": "markdown",
      "metadata": {
        "id": "1vLwxRTUbb8s",
        "colab_type": "text"
      },
      "source": [
        "Allow google colab to read h5 files"
      ]
    },
    {
      "cell_type": "code",
      "metadata": {
        "id": "JIdUVh4WX6eq",
        "colab_type": "code",
        "colab": {}
      },
      "source": [
        "os.environ[\"HDF5_USE_FILE_LOCKING\"] = \"FALSE\""
      ],
      "execution_count": null,
      "outputs": []
    },
    {
      "cell_type": "markdown",
      "metadata": {
        "id": "e-xgx4Qrqb3b",
        "colab_type": "text"
      },
      "source": [
        "Install the kaggle to system"
      ]
    },
    {
      "cell_type": "code",
      "metadata": {
        "id": "MsjkWsp7qGs0",
        "colab_type": "code",
        "colab": {}
      },
      "source": [
        "!pip install -q kaggle"
      ],
      "execution_count": null,
      "outputs": []
    },
    {
      "cell_type": "markdown",
      "metadata": {
        "id": "HrhNQM9AtzQl",
        "colab_type": "text"
      },
      "source": [
        "Upload the kaggle.json"
      ]
    },
    {
      "cell_type": "code",
      "metadata": {
        "id": "Vy9AxfU_tyjc",
        "colab_type": "code",
        "colab": {}
      },
      "source": [
        "from google.colab import files\n",
        "files.upload()"
      ],
      "execution_count": null,
      "outputs": []
    },
    {
      "cell_type": "markdown",
      "metadata": {
        "id": "_iu67x1et-pt",
        "colab_type": "text"
      },
      "source": [
        "Create the necessary folder path"
      ]
    },
    {
      "cell_type": "code",
      "metadata": {
        "id": "iybWZQugt-yS",
        "colab_type": "code",
        "colab": {}
      },
      "source": [
        "!mkdir -p ~/.kaggle\n",
        "!cp kaggle.json ~/.kaggle/\n",
        "!ls ~/.kaggle\n",
        "!chmod 600 /root/.kaggle/kaggle.json  # set permission"
      ],
      "execution_count": null,
      "outputs": []
    },
    {
      "cell_type": "markdown",
      "metadata": {
        "id": "-AEp2ZHsqiF2",
        "colab_type": "text"
      },
      "source": [
        "Download the dataset from kaggle with API"
      ]
    },
    {
      "cell_type": "code",
      "metadata": {
        "id": "qvi5l-PrqkE1",
        "colab_type": "code",
        "colab": {}
      },
      "source": [
        "! kaggle datasets download -d paultimothymooney/chest-xray-pneumonia -p /content/gdrive/My\\ Drive/pneumonia"
      ],
      "execution_count": null,
      "outputs": []
    },
    {
      "cell_type": "markdown",
      "metadata": {
        "id": "is2b3sWYqlr2",
        "colab_type": "text"
      },
      "source": [
        "Unzip all files"
      ]
    },
    {
      "cell_type": "code",
      "metadata": {
        "id": "S5IjJAiLqntM",
        "colab_type": "code",
        "colab": {}
      },
      "source": [
        "import os\n",
        "os.chdir('gdrive/My Drive/pneumonia')\n",
        "!unzip -q chest-xray-pneumonia.zip "
      ],
      "execution_count": null,
      "outputs": []
    },
    {
      "cell_type": "markdown",
      "metadata": {
        "id": "WCfbjMEjMUAV",
        "colab_type": "text"
      },
      "source": [
        "To make sure Colab uses GPU you can run"
      ]
    },
    {
      "cell_type": "code",
      "metadata": {
        "id": "NVDkDXBqMT4u",
        "colab_type": "code",
        "colab": {
          "base_uri": "https://localhost:8080/",
          "height": 34
        },
        "outputId": "599e002e-375a-43ec-f728-4aea4c7faf61"
      },
      "source": [
        "import tensorflow as tf\n",
        "tf.test.gpu_device_name()"
      ],
      "execution_count": null,
      "outputs": [
        {
          "output_type": "execute_result",
          "data": {
            "text/plain": [
              "'/device:GPU:0'"
            ]
          },
          "metadata": {
            "tags": []
          },
          "execution_count": 2
        }
      ]
    },
    {
      "cell_type": "markdown",
      "metadata": {
        "id": "6q2S_WvhNppH",
        "colab_type": "text"
      },
      "source": [
        "Make sure that the current GPU memory utilization is 0"
      ]
    },
    {
      "cell_type": "code",
      "metadata": {
        "id": "7qs6TSp7MnZa",
        "colab_type": "code",
        "colab": {
          "base_uri": "https://localhost:8080/",
          "height": 238
        },
        "outputId": "137e49fe-3355-44ce-db59-d8b15c5cf56c"
      },
      "source": [
        "!ln -sf /opt/bin/nvidia-smi /usr/bin/nvidia-smi\n",
        "!pip install gputil\n",
        "!pip install psutil\n",
        "!pip install humanize\n",
        "import psutil\n",
        "import humanize\n",
        "import os\n",
        "import GPUtil as GPU\n",
        "GPUs = GPU.getGPUs()\n",
        "# XXX: only one GPU on Colab and isn’t guaranteed\n",
        "gpu = GPUs[0]\n",
        "def printm():\n",
        " process = psutil.Process(os.getpid())\n",
        " print(\"Gen RAM Free: \" + humanize.naturalsize( psutil.virtual_memory().available ), \" | Proc size: \" + humanize.naturalsize( process.memory_info().rss))\n",
        " print(\"GPU RAM Free: {0:.0f}MB | Used: {1:.0f}MB | Util {2:3.0f}% | Total {3:.0f}MB\".format(gpu.memoryFree, gpu.memoryUsed, gpu.memoryUtil*100, gpu.memoryTotal))\n",
        "printm() "
      ],
      "execution_count": null,
      "outputs": [
        {
          "output_type": "stream",
          "text": [
            "Collecting gputil\n",
            "  Downloading https://files.pythonhosted.org/packages/ed/0e/5c61eedde9f6c87713e89d794f01e378cfd9565847d4576fa627d758c554/GPUtil-1.4.0.tar.gz\n",
            "Building wheels for collected packages: gputil\n",
            "  Building wheel for gputil (setup.py) ... \u001b[?25l\u001b[?25hdone\n",
            "  Created wheel for gputil: filename=GPUtil-1.4.0-cp36-none-any.whl size=7413 sha256=8bbb5d693511a2a48f235016d6808b4548ecae822f1cb066201707f37a18c54e\n",
            "  Stored in directory: /root/.cache/pip/wheels/3d/77/07/80562de4bb0786e5ea186911a2c831fdd0018bda69beab71fd\n",
            "Successfully built gputil\n",
            "Installing collected packages: gputil\n",
            "Successfully installed gputil-1.4.0\n",
            "Requirement already satisfied: psutil in /usr/local/lib/python3.6/dist-packages (5.4.8)\n",
            "Requirement already satisfied: humanize in /usr/local/lib/python3.6/dist-packages (0.5.1)\n",
            "Gen RAM Free: 26.3 GB  | Proc size: 159.1 MB\n",
            "GPU RAM Free: 16280MB | Used: 0MB | Util   0% | Total 16280MB\n"
          ],
          "name": "stdout"
        }
      ]
    },
    {
      "cell_type": "markdown",
      "metadata": {
        "id": "eD7lCjFMNzko",
        "colab_type": "text"
      },
      "source": [
        "If Util not 0% use kill"
      ]
    },
    {
      "cell_type": "code",
      "metadata": {
        "id": "0GWVYD-uM3bL",
        "colab_type": "code",
        "colab": {}
      },
      "source": [
        "!kill -9 -1"
      ],
      "execution_count": null,
      "outputs": []
    },
    {
      "cell_type": "markdown",
      "metadata": {
        "id": "XtJkcrhBqvAm",
        "colab_type": "text"
      },
      "source": [
        "Import libraries"
      ]
    },
    {
      "cell_type": "code",
      "metadata": {
        "id": "WXV2A0LiqzNm",
        "colab_type": "code",
        "colab": {
          "base_uri": "https://localhost:8080/",
          "height": 71
        },
        "outputId": "26c1b35a-e1c0-43c3-fbc7-8a5463873c76"
      },
      "source": [
        "import numpy as np\n",
        "import keras\n",
        "from keras import applications, Sequential, Model, optimizers, models\n",
        "from keras.callbacks import ReduceLROnPlateau, EarlyStopping, History\n",
        "from keras.layers import Flatten, Dense, Dropout\n",
        "from keras.preprocessing.image import ImageDataGenerator\n",
        "from keras.utils import to_categorical\n",
        "from tqdm import tqdm\n",
        "import os\n",
        "import h5py\n",
        "from PIL import Image\n",
        "import matplotlib.pyplot as plt\n",
        "import seaborn as sns"
      ],
      "execution_count": 47,
      "outputs": [
        {
          "output_type": "stream",
          "text": [
            "/usr/local/lib/python3.6/dist-packages/statsmodels/tools/_testing.py:19: FutureWarning: pandas.util.testing is deprecated. Use the functions in the public API at pandas.testing instead.\n",
            "  import pandas.util.testing as tm\n"
          ],
          "name": "stderr"
        }
      ]
    },
    {
      "cell_type": "markdown",
      "metadata": {
        "id": "Y20XxIFUq1DG",
        "colab_type": "text"
      },
      "source": [
        "Variables with train and test directories. \n",
        "Some constant variables."
      ]
    },
    {
      "cell_type": "code",
      "metadata": {
        "id": "W2XmpPN4q2rU",
        "colab_type": "code",
        "colab": {}
      },
      "source": [
        "trainInput = \"/content/gdrive/My Drive/pneumonia/chest_xray/chest_xray/train/\"\n",
        "testInput = \"/content/gdrive/My Drive/pneumonia/chest_xray/chest_xray/test/\"\n",
        "validationInput = \"/content/gdrive/My Drive/pneumonia/chest_xray/chest_xray/val/\"\n",
        "size = 199\n",
        "epochs = 3\n",
        "fileName = \"/content/gdrive/My Drive/pneumonia/images.h5\"\n",
        "modelsDir = \"/content/gdrive/My Drive/pneumonia/model1/\""
      ],
      "execution_count": 2,
      "outputs": []
    },
    {
      "cell_type": "code",
      "metadata": {
        "id": "MDL1eym4q30E",
        "colab_type": "code",
        "colab": {}
      },
      "source": [
        "# keras.utils.normalize\n",
        "def extractData(directory):\n",
        "    labels = []\n",
        "    images = []\n",
        "\n",
        "    for nextDirectory in os.listdir(directory):\n",
        "        if not nextDirectory.startswith(\".\"):\n",
        "            if nextDirectory in \"NORMAL\":\n",
        "                label = 0\n",
        "            elif nextDirectory in \"PNEUMONIA\":\n",
        "                label = 1\n",
        "            else:\n",
        "                label = 2\n",
        "\n",
        "            currentDirectory = directory + nextDirectory\n",
        "            if not currentDirectory.startswith(\".\"):\n",
        "                for files in tqdm(os.listdir(currentDirectory)):\n",
        "                    if files.endswith('.jpg') or files.endswith('.jpeg'):\n",
        "                        imagePath = currentDirectory + \"/\" + files\n",
        "                        img = Image.open(imagePath)\n",
        "                        img = img.resize((size, size)).convert(\"RGB\")\n",
        "                        data = np.array(img.getdata())\n",
        "                        img = 2 * (data.reshape((img.size[0], img.size[1], 3)).astype(np.float32) / 255) - 1\n",
        "                        images.append(img)\n",
        "                        labels.append(label)\n",
        "\n",
        "    labels = np.asarray(labels)\n",
        "\n",
        "    if directory is trainInput:\n",
        "        out = h5py.File(fileName, \"a\")\n",
        "        out.create_dataset(\"imagesTrain\", data=images)\n",
        "        out.create_dataset(\"labelsTrain\", data=labels)\n",
        "        out.close()\n",
        "    elif directory is testInput:\n",
        "        out = h5py.File(fileName, \"a\")\n",
        "        out.create_dataset(\"imagesTest\", data=images)\n",
        "        out.create_dataset(\"labelsTest\", data=labels)\n",
        "        out.close()\n",
        "    elif directory is validationInput:\n",
        "        out = h5py.File(fileName, \"a\")\n",
        "        out.create_dataset(\"imagesValidation\", data=images)\n",
        "        out.create_dataset(\"labelsValidation\", data=labels)\n",
        "        out.close()\n",
        "    else:\n",
        "        pass"
      ],
      "execution_count": null,
      "outputs": []
    },
    {
      "cell_type": "code",
      "metadata": {
        "id": "l5SZ9s-IvZz5",
        "colab_type": "code",
        "colab": {
          "base_uri": "https://localhost:8080/",
          "height": 126
        },
        "outputId": "2e5aee94-9674-452f-ee1e-02bc29f695a2"
      },
      "source": [
        "extractData(trainInput)\n",
        "extractData(testInput)\n",
        "extractData(validationInput)"
      ],
      "execution_count": null,
      "outputs": [
        {
          "output_type": "stream",
          "text": [
            "100%|██████████| 1342/1342 [09:05<00:00,  2.46it/s]\n",
            "100%|██████████| 3876/3876 [24:30<00:00,  2.64it/s]\n",
            "100%|██████████| 234/234 [01:33<00:00,  2.51it/s]\n",
            "100%|██████████| 390/390 [02:27<00:00,  2.64it/s]\n",
            "100%|██████████| 9/9 [00:00<00:00, 20.21it/s]\n",
            "100%|██████████| 9/9 [00:00<00:00, 25.17it/s]\n"
          ],
          "name": "stderr"
        }
      ]
    },
    {
      "cell_type": "markdown",
      "metadata": {
        "id": "BNA2rFbN9m1j",
        "colab_type": "text"
      },
      "source": [
        "Get the images and labels"
      ]
    },
    {
      "cell_type": "code",
      "metadata": {
        "id": "ZnTukdAeb0dL",
        "colab_type": "code",
        "colab": {
          "base_uri": "https://localhost:8080/",
          "height": 34
        },
        "outputId": "0deaa6e5-b879-492b-d54f-5853123ab8a4"
      },
      "source": [
        "x = h5py.File(fileName, \"r\")[\"imagesTrain\"][:]\n",
        "print(x.shape)"
      ],
      "execution_count": 3,
      "outputs": [
        {
          "output_type": "stream",
          "text": [
            "(5216, 199, 199, 3)\n"
          ],
          "name": "stdout"
        }
      ]
    },
    {
      "cell_type": "code",
      "metadata": {
        "id": "RdrcPl01q5KE",
        "colab_type": "code",
        "colab": {}
      },
      "source": [
        "dset = h5py.File(fileName, \"r\")\n",
        "labelsTrain, imagesTrain, labelsTest, imagesTest, labelsValidation, imagesValidation = dset[\"labelsTrain\"][:], dset[\"imagesTrain\"][:], dset[\"labelsTest\"][:], dset[\"imagesTest\"][:], dset[\"labelsValidation\"][:], dset[\"imagesValidation\"][:]"
      ],
      "execution_count": 4,
      "outputs": []
    },
    {
      "cell_type": "markdown",
      "metadata": {
        "id": "M81QETYCSSdf",
        "colab_type": "text"
      },
      "source": [
        "Reshape if fit_generator dont work"
      ]
    },
    {
      "cell_type": "code",
      "metadata": {
        "id": "9OavjTzoSTU2",
        "colab_type": "code",
        "colab": {
          "base_uri": "https://localhost:8080/",
          "height": 51
        },
        "outputId": "9be327a8-9775-49da-b119-a5badcb9d13d"
      },
      "source": [
        "labelsTrain = to_categorical(labelsTrain, 2)\n",
        "labelsTest = to_categorical(labelsTest, 2)\n",
        "labelsValidation = to_categorical(labelsValidation, 2)\n",
        "print(\"Train:\", imagesTrain.shape, \"Test:\", imagesTest.shape, \"Validation:\", imagesValidation.shape)\n",
        "print(\"Train:\", labelsTrain.shape, \"Test:\", labelsTest.shape, \"Validation:\", labelsValidation.shape)"
      ],
      "execution_count": 5,
      "outputs": [
        {
          "output_type": "stream",
          "text": [
            "Train: (5216, 199, 199, 3) Test: (624, 199, 199, 3) Validation: (16, 199, 199, 3)\n",
            "Train: (5216, 2) Test: (624, 2) Validation: (16, 2)\n"
          ],
          "name": "stdout"
        }
      ]
    },
    {
      "cell_type": "markdown",
      "metadata": {
        "id": "uAo1519Ht-YQ",
        "colab_type": "text"
      },
      "source": [
        "Add an model, the weights can be none or imagenet. Imagenet is pre-trained on ImageNet.     \n",
        "include_top is set False in order to exclude the last three layers (including the final softmax layer with 200 classes of output)"
      ]
    },
    {
      "cell_type": "markdown",
      "metadata": {
        "id": "JKxNKry6Fk6e",
        "colab_type": "text"
      },
      "source": [
        "This callback monitors a quantity and if no improvement is seen for a 'patience' number of epochs, the learning rate is reduced.\n",
        "Reduce learning rate when a metric has stopped improving."
      ]
    },
    {
      "cell_type": "markdown",
      "metadata": {
        "id": "iTPxoU9Y0uZv",
        "colab_type": "text"
      },
      "source": [
        "Flatten() layer to flatten the tensor output. Dense is 2D layer which support the specification of their input shape. relu and softmax are different activations which used with layers, either can be used by activation layers. Activations: https://keras.io/activations/. Optimizers: https://keras.io/optimizers/. Losses: https://keras.io/losses/. Metrics: https://keras.io/metrics/. Compilation: https://keras.io/getting-started/sequential-model-guide/."
      ]
    },
    {
      "cell_type": "markdown",
      "metadata": {
        "id": "9AkYHdHbNvF0",
        "colab_type": "text"
      },
      "source": [
        "Measure time and creation of fit_generator: https://keras.io/models/model/#fit_generator , https://keras.io/models/model/#fit"
      ]
    },
    {
      "cell_type": "markdown",
      "metadata": {
        "id": "JK0KrMa7QXFl",
        "colab_type": "text"
      },
      "source": [
        "Save the model"
      ]
    },
    {
      "cell_type": "code",
      "metadata": {
        "id": "YjJbB5BVb5Uu",
        "colab_type": "code",
        "colab": {}
      },
      "source": [
        "reduceLearningRate = ReduceLROnPlateau(monitor='loss', factor=0.1, patience=2, cooldown=2, min_lr=0.001, verbose=1)\n",
        "# reduceLearningRate = ReduceLROnPlateau(monitor='val_acc', factor=0.1, epsilon=0.0001, patience=1, verbose=1) \n",
        "earlyStop = EarlyStopping(monitor='val_loss', patience=5, verbose=1)\n",
        "callbacks = [reduceLearningRate, earlyStop]"
      ],
      "execution_count": 6,
      "outputs": []
    },
    {
      "cell_type": "code",
      "metadata": {
        "id": "D70_PNd8dAB3",
        "colab_type": "code",
        "colab": {}
      },
      "source": [
        "datagen = ImageDataGenerator(\n",
        "    zoom_range=0.1,\n",
        "    height_shift_range=0.1,\n",
        "    width_shift_range=0.1,\n",
        "    rotation_range=10\n",
        ")"
      ],
      "execution_count": 7,
      "outputs": []
    },
    {
      "cell_type": "code",
      "metadata": {
        "id": "JvphCiBO6XG7",
        "colab_type": "code",
        "colab": {}
      },
      "source": [
        "def trainModel(model, name):\n",
        "  global history\n",
        "  pattern = model(weights=\"imagenet\", include_top=False, input_shape=(size, size, 3))\n",
        "\n",
        "  addModel = Sequential()\n",
        "\n",
        "  addModel.add(Flatten(input_shape=pattern.output_shape[1:]))\n",
        "  # addModel.add(Dense(512, activation=\"relu\"))\n",
        "  # addModel.add(Dropout(0.1))\n",
        "  addModel.add(Dense(256, activation=\"relu\"))\n",
        "  addModel.add(Dropout(0.2))\n",
        "  addModel.add(Dense(512, activation=\"relu\"))\n",
        "  addModel.add(Dropout(0.4))\n",
        "  addModel.add(Dense(2, activation=\"softmax\"))\n",
        "\n",
        "  md = Model(inputs=pattern.input, outputs=addModel(pattern.output))\n",
        "  md.compile(loss=\"categorical_crossentropy\", \n",
        "                  optimizer=optimizers.SGD(learning_rate=0.01, momentum=0.9), \n",
        "                  metrics=[\"accuracy\"])\n",
        "  \n",
        "  history = md.fit_generator(datagen.flow(imagesTrain, labelsTrain, batch_size=32),\n",
        "                   validation_data=datagen.flow(imagesTest, labelsTest),\n",
        "                   callbacks=callbacks, epochs=epochs, verbose=1)\n",
        "  \n",
        "  md.save(modelsDir + name + \".h5\")"
      ],
      "execution_count": 8,
      "outputs": []
    },
    {
      "cell_type": "code",
      "metadata": {
        "id": "DyuzSVPr6mVH",
        "colab_type": "code",
        "colab": {
          "base_uri": "https://localhost:8080/",
          "height": 119
        },
        "outputId": "9f956c10-2030-4231-d9da-2a055db32810"
      },
      "source": [
        "trainModel(applications.InceptionV3, \"InceptionV3\")\n",
        "# trainModel(applications.Xception, \"Xception\")\n",
        "# trainModel(applications.DenseNet201, \"DenseNet201\")\n",
        "# trainModel(applications.InceptionResNetV2, \"InceptionResNetV2\")\n",
        "# trainModel(applications.MobileNetV2, \"MobileNetV2\")\n",
        "# trainModel(applications.VGG16, \"VGG16\")\n",
        "# trainModel(applications.ResNet152V2, \"ResNet152V2\")"
      ],
      "execution_count": 9,
      "outputs": [
        {
          "output_type": "stream",
          "text": [
            "Epoch 1/3\n",
            "163/163 [==============================] - 76s 464ms/step - loss: 0.2619 - accuracy: 0.9089 - val_loss: 0.3256 - val_accuracy: 0.8734\n",
            "Epoch 2/3\n",
            "163/163 [==============================] - 49s 302ms/step - loss: 0.0999 - accuracy: 0.9630 - val_loss: 0.1009 - val_accuracy: 0.9215\n",
            "Epoch 3/3\n",
            "163/163 [==============================] - 50s 304ms/step - loss: 0.0751 - accuracy: 0.9726 - val_loss: 0.0340 - val_accuracy: 0.9215\n"
          ],
          "name": "stdout"
        }
      ]
    },
    {
      "cell_type": "markdown",
      "metadata": {
        "id": "4rcIRzAzl3bl",
        "colab_type": "text"
      },
      "source": [
        "# InceptionV3 results"
      ]
    },
    {
      "cell_type": "code",
      "metadata": {
        "id": "_TUX8gW4ivG0",
        "colab_type": "code",
        "colab": {
          "base_uri": "https://localhost:8080/",
          "height": 295
        },
        "outputId": "a7c3131b-ef40-4369-9be1-76907c83d3c4"
      },
      "source": [
        "plt.plot(history.history[\"accuracy\"], color=\"b\", label=\"Accuracy\")\n",
        "plt.plot(history.history[\"val_accuracy\"], color=\"g\", label=\"Validation accuracy\")\n",
        "plt.legend(loc=\"lower right\", frameon=False)\n",
        "plt.title(\"Accuracy of the InceptionV3 model\")\n",
        "plt.xlabel(\"Epochs\")\n",
        "plt.ylabel(\"Effectiveness\")\n",
        "plt.show()"
      ],
      "execution_count": 10,
      "outputs": [
        {
          "output_type": "display_data",
          "data": {
            "image/png": "[encoded data removed]",
            "text/plain": [
              "<Figure size 432x288 with 1 Axes>"
            ]
          },
          "metadata": {
            "tags": [],
            "needs_background": "light"
          }
        }
      ]
    },
    {
      "cell_type": "code",
      "metadata": {
        "id": "nc-8S_y3kgAi",
        "colab_type": "code",
        "colab": {
          "base_uri": "https://localhost:8080/",
          "height": 295
        },
        "outputId": "5cd1aa06-b071-4645-9925-348e0d96c44e"
      },
      "source": [
        "plt.plot(history.history[\"loss\"], color=\"r\", label=\"Loss\")\n",
        "plt.plot(history.history[\"val_loss\"], color=\"m\", label=\"Validation loss\")\n",
        "plt.legend(loc=\"upper right\", frameon=False)\n",
        "plt.title(\"Loss of the InceptionV3 model\")\n",
        "plt.xlabel(\"Epochs\")\n",
        "plt.ylabel(\"Effectiveness\")\n",
        "plt.show()"
      ],
      "execution_count": 11,
      "outputs": [
        {
          "output_type": "display_data",
          "data": {
            "image/png": "[encoded data removed]",
            "text/plain": [
              "<Figure size 432x288 with 1 Axes>"
            ]
          },
          "metadata": {
            "tags": [],
            "needs_background": "light"
          }
        }
      ]
    },
    {
      "cell_type": "markdown",
      "metadata": {
        "id": "CamtYWuASxqC",
        "colab_type": "text"
      },
      "source": [
        "Load model and prediction"
      ]
    },
    {
      "cell_type": "code",
      "metadata": {
        "id": "SUxd3IwQhI6O",
        "colab_type": "code",
        "colab": {}
      },
      "source": [
        "def prepareTestImages(dir_test_image):\n",
        "\n",
        "    labels = []\n",
        "    images = []\n",
        "\n",
        "    for nextDirectory in os.listdir(dir_test_image):\n",
        "        if not nextDirectory.startswith(\".\"):\n",
        "            if nextDirectory in \"NORMAL\":\n",
        "                label = 0\n",
        "            elif nextDirectory in \"PNEUMONIA\":\n",
        "                label = 1\n",
        "            else:\n",
        "                label = 2\n",
        "\n",
        "            currentDirectory = dir_test_image + nextDirectory\n",
        "            if not currentDirectory.startswith(\".\"):\n",
        "                for files in os.listdir(currentDirectory):\n",
        "                    if files.endswith('.jpg') or files.endswith('.jpeg'):\n",
        "                        imagePath = currentDirectory + \"/\" + files\n",
        "                        img = Image.open(imagePath)\n",
        "                        img = img.resize((size, size)).convert(\"RGB\")\n",
        "                        data = np.array(img.getdata())\n",
        "                        img = 2 * (data.reshape((img.size[0], img.size[1], 3)).astype(np.float32) / 255) - 1\n",
        "                        images.append(img)\n",
        "                        labels.append(label)\n",
        "\n",
        "    labels = np.asarray(labels)\n",
        "\n",
        "    out = h5py.File(\"/content/gdrive/My Drive/pneumonia/imagesTest.h5\", \"a\")\n",
        "    out.create_dataset(\"imagesTest\", data=images)\n",
        "    out.create_dataset(\"labelsTest\", data=labels)\n",
        "    out.close()"
      ],
      "execution_count": 56,
      "outputs": []
    },
    {
      "cell_type": "code",
      "metadata": {
        "id": "hI-rHfIfhUuv",
        "colab_type": "code",
        "colab": {}
      },
      "source": [
        "prepareTestImages(\"/content/gdrive/My Drive/pneumonia/test/\")"
      ],
      "execution_count": 57,
      "outputs": []
    },
    {
      "cell_type": "code",
      "metadata": {
        "id": "208qXdBkhdCb",
        "colab_type": "code",
        "colab": {}
      },
      "source": [
        "dset = h5py.File(\"/content/gdrive/My Drive/pneumonia/imagesTest.h5\", \"r\")\n",
        "imagesTmp = dset[\"imagesTest\"][:]\n",
        "labelsTmp = dset[\"labelsTest\"][:]"
      ],
      "execution_count": 58,
      "outputs": []
    },
    {
      "cell_type": "code",
      "metadata": {
        "id": "-70Pw2v1jDG7",
        "colab_type": "code",
        "colab": {}
      },
      "source": [
        "def modelsTest(dir_models):\n",
        "\n",
        "  models_stat = []\n",
        "  num_mod = 0\n",
        "\n",
        "  for file_model in os.listdir(dir_models):\n",
        "    num_mod += 1\n",
        "\n",
        "    dir_model = dir_models + \"/\" + file_model\n",
        "    name = file_model[:-3]\n",
        "    model_stat = [name]\n",
        "    print(name)\n",
        "    model = models.load_model(dir_model)\n",
        "    predictions = model.predict(imagesTmp[:])\n",
        "    # print(predictions)\n",
        "    accuracy = 0\n",
        "    for i in range(len(predictions)):\n",
        "      # print(\"pred\", labelsTmp[i], format(predictions[i][0], \".2f\"), format(predictions[i][1], \".2f\"))\n",
        "      if labelsTmp[i] == np.argmax(predictions[i]):\n",
        "        accuracy += 1\n",
        "        # print(format(predictions[i][0], \".2f\"))\n",
        "    print(\"Accuracy of predictions is: \", str(accuracy/len(predictions)*100) + \"%\")\n",
        "  #     predictions = predictions.reshape(1, -1)[0]\n",
        "\n",
        "  #     accuracy_array = []\n",
        "\n",
        "  #     x = -1\n",
        "  #     for i in range(0, len(predictions), 2):\n",
        "  #         x += 1  \n",
        "  #         if predictions[i] > predictions[i + 1]:\n",
        "  #             if labels[x] == 0:\n",
        "  #                accuracy_array.append(predictions[i])\n",
        "  #                average_accuracy[x] += predictions[i]\n",
        "  #             else: \n",
        "  #                accuracy_array.append(predictions[i + 1])  \n",
        "  #                average_accuracy[x] += predictions[i + 1]\n",
        "\n",
        "  #         if predictions[i] < predictions[i + 1]:\n",
        "  #            if labels[x] == 1:\n",
        "  #              accuracy_array.append(predictions[i + 1])\n",
        "  #              average_accuracy[x] += predictions[i + 1]\n",
        "  #            else: \n",
        "  #               accuracy_array.append(predictions[i])\n",
        "  #               average_accuracy[x] += predictions[i]\n",
        "\n",
        "  #     model_stat.append(np.sum(accuracy_array) / len(accuracy_array) * 100)\n",
        "  #     models_stat.append(model_stat)\n",
        "  #     print(model_stat)\n",
        "  # for i in range(len(average_accuracy)):\n",
        "  #     average_accuracy[i] = average_accuracy[i] / num_mod\n",
        "  # models_stat.append([\"Average\", np.sum(average_accuracy) / len(average_accuracy) * 100])\n",
        "  # print([\"Average\", np.sum(average_accuracy) / len(average_accuracy) * 100])\n",
        "\n",
        "  # x_data = []\n",
        "  # y_data = []\n",
        "  # for i in range(len(models_stat)): \n",
        "  #     x_data.append(models_stat[i][0])\n",
        "  #     y_data.append(models_stat[i][1])\n",
        "  # _, ax = plt.subplots()\n",
        "  # ax.bar(x_data, y_data, color = '#539caf', align = 'center')\n",
        "  # ax.set_ylabel(\"Accuracy\")\n",
        "  # ax.set_xlabel(\"Models\") "
      ],
      "execution_count": 67,
      "outputs": []
    },
    {
      "cell_type": "code",
      "metadata": {
        "id": "2A0jYRZHiTbG",
        "colab_type": "code",
        "colab": {
          "base_uri": "https://localhost:8080/",
          "height": 51
        },
        "outputId": "8f55cd04-4443-4e7e-bedd-9b6dde728ed5"
      },
      "source": [
        "modelsTest(modelsDir)"
      ],
      "execution_count": 68,
      "outputs": [
        {
          "output_type": "stream",
          "text": [
            "InceptionV3\n",
            "Accuracy of predictions is:  93.42948717948718% 583\n"
          ],
          "name": "stdout"
        }
      ]
    },
    {
      "cell_type": "code",
      "metadata": {
        "id": "l0ApnTjzjHcH",
        "colab_type": "code",
        "colab": {}
      },
      "source": [
        "def global_predict(dir_models, dir_image):\n",
        "\n",
        "    images_stat = []\n",
        "    num_mod = 0\n",
        "\n",
        "    name_image = []\n",
        "    images = []\n",
        "\n",
        "    for files in os.listdir(dir_image):\n",
        "        if files.endswith(\".jpg\") or files.endswith(\".jpeg\"):\n",
        "            imagePath = dir_image + files\n",
        "            name_image.append(files)\n",
        "            img = Image.open(imagePath)\n",
        "            img = img.resize((size, size)).convert(\"RGB\")\n",
        "            data = np.array(img.getdata())\n",
        "            img = 2 * (data.reshape((img.size[0], img.size[1], 3)).astype(np.float32) / 255) - 1\n",
        "            images.append(img)\n",
        "\n",
        "    out = h5py.File(\"/content/gdrive/My Drive/pneumonia/tmptest.h5\", \"a\")\n",
        "    out.create_dataset(\"imagesTmp\", data=images)\n",
        "    out.close()\n",
        "\n",
        "    dset = h5py.File(\"/content/gdrive/My Drive/pneumonia/tmptest.h5\", \"r\")\n",
        "    imagesTmp = dset[\"imagesTmp\"][:]\n",
        "    os.remove(\"/content/gdrive/My Drive/pneumonia/tmptest.h5\")\n",
        "\n",
        "    for file_model in os.listdir(dir_models):\n",
        "      if not file_model.startswith(\".\"):\n",
        "        print(\"==================================================\\nCurrent model is: \", file_model)\n",
        "        num_mod += 1\n",
        "        dir_model = dir_models + \"/\" + file_model\n",
        "    \n",
        "        model = models.load_model(dir_model)\n",
        "        predictions = model.predict(imagesTmp)\n",
        "        predictions = predictions.reshape(1, -1)[0]\n",
        "\n",
        "        accuracy_array = []\n",
        "\n",
        "        for i in range(0, len(predictions), 2):\n",
        "            accuracy_array.append(predictions[i + 1])\n",
        "        images_stat.append(accuracy_array)\n",
        "        print(accuracy_array)\n",
        "    result = []    \n",
        "\n",
        "    for i in range(len(name_image)):\n",
        "        sum_ac = 0\n",
        "        for j in range(num_mod):\n",
        "            sum_ac += images_stat[j][i]  \n",
        "        result.append([name_image[i], sum_ac / num_mod * 100])\n",
        "    print(result)"
      ],
      "execution_count": 21,
      "outputs": []
    },
    {
      "cell_type": "code",
      "metadata": {
        "id": "2yENubwpjKDx",
        "colab_type": "code",
        "colab": {
          "base_uri": "https://localhost:8080/",
          "height": 765
        },
        "outputId": "9710b6fb-339e-4f6c-aaa3-451cf9f4976c"
      },
      "source": [
        "global_predict(modelsDir, \"/content/gdrive/My Drive/pneumonia/predict/\")"
      ],
      "execution_count": 22,
      "outputs": [
        {
          "output_type": "stream",
          "text": [
            "==================================================\n",
            "Current model is:  DenseNet201.h5\n",
            "[0.8051578, 0.31375858, 0.9218358, 0.2144099, 0.2797077, 0.9933089, 0.9997603, 0.99996066, 0.9999448, 0.9999738, 0.99963653]\n",
            "==================================================\n",
            "Current model is:  VGG16.h5\n",
            "[0.8669566, 0.15812396, 0.3225181, 0.46605927, 0.09625931, 0.9991066, 0.9999708, 0.99998987, 0.9999335, 0.9999831, 0.99993014]\n",
            "==================================================\n",
            "Current model is:  MobileNetV2.h5\n",
            "[0.18382469, 0.07634465, 0.25555867, 0.22616726, 0.03265058, 0.99678373, 0.99986184, 0.9999821, 0.9998324, 0.99991584, 0.9998671]\n",
            "==================================================\n",
            "Current model is:  InceptionResNetV2.h5\n",
            "[0.313137, 0.76187766, 0.6093225, 0.49602044, 0.2831848, 0.99933773, 0.9999341, 0.9999678, 0.99905556, 0.99993634, 0.99679935]\n",
            "==================================================\n",
            "Current model is:  ResNet152V2.h5\n",
            "[0.5787341, 0.069889344, 0.5062051, 0.38205102, 0.957041, 0.999995, 0.9999918, 1.0, 0.99999917, 0.999997, 0.99986935]\n",
            "==================================================\n",
            "Current model is:  Xception.h5\n",
            "[0.9838251, 0.9907239, 0.66596276, 0.89881146, 0.973041, 0.9534417, 0.9999893, 0.9987716, 0.9991842, 0.9950493, 0.9950193]\n",
            "==================================================\n",
            "Current model is:  .ipynb_checkpoints\n"
          ],
          "name": "stdout"
        },
        {
          "output_type": "error",
          "ename": "OSError",
          "evalue": "ignored",
          "traceback": [
            "\u001b[0;31m---------------------------------------------------------------------------\u001b[0m",
            "\u001b[0;31mOSError\u001b[0m                                   Traceback (most recent call last)",
            "\u001b[0;32m<ipython-input-22-e48938a577b3>\u001b[0m in \u001b[0;36m<module>\u001b[0;34m()\u001b[0m\n\u001b[0;32m----> 1\u001b[0;31m \u001b[0mglobal_predict\u001b[0m\u001b[0;34m(\u001b[0m\u001b[0mmodelsDir\u001b[0m\u001b[0;34m,\u001b[0m \u001b[0;34m\"/content/gdrive/My Drive/pneumonia/predict/\"\u001b[0m\u001b[0;34m)\u001b[0m\u001b[0;34m\u001b[0m\u001b[0;34m\u001b[0m\u001b[0m\n\u001b[0m",
            "\u001b[0;32m<ipython-input-21-d62df6fee5de>\u001b[0m in \u001b[0;36mglobal_predict\u001b[0;34m(dir_models, dir_image)\u001b[0m\n\u001b[1;32m     30\u001b[0m       \u001b[0mdir_model\u001b[0m \u001b[0;34m=\u001b[0m \u001b[0mdir_models\u001b[0m \u001b[0;34m+\u001b[0m \u001b[0;34m\"/\"\u001b[0m \u001b[0;34m+\u001b[0m \u001b[0mfile_model\u001b[0m\u001b[0;34m\u001b[0m\u001b[0;34m\u001b[0m\u001b[0m\n\u001b[1;32m     31\u001b[0m \u001b[0;34m\u001b[0m\u001b[0m\n\u001b[0;32m---> 32\u001b[0;31m       \u001b[0mmodel\u001b[0m \u001b[0;34m=\u001b[0m \u001b[0mmodels\u001b[0m\u001b[0;34m.\u001b[0m\u001b[0mload_model\u001b[0m\u001b[0;34m(\u001b[0m\u001b[0mdir_model\u001b[0m\u001b[0;34m)\u001b[0m\u001b[0;34m\u001b[0m\u001b[0;34m\u001b[0m\u001b[0m\n\u001b[0m\u001b[1;32m     33\u001b[0m       \u001b[0mpredictions\u001b[0m \u001b[0;34m=\u001b[0m \u001b[0mmodel\u001b[0m\u001b[0;34m.\u001b[0m\u001b[0mpredict\u001b[0m\u001b[0;34m(\u001b[0m\u001b[0mimagesTmp\u001b[0m\u001b[0;34m)\u001b[0m\u001b[0;34m\u001b[0m\u001b[0;34m\u001b[0m\u001b[0m\n\u001b[1;32m     34\u001b[0m       \u001b[0mpredictions\u001b[0m \u001b[0;34m=\u001b[0m \u001b[0mpredictions\u001b[0m\u001b[0;34m.\u001b[0m\u001b[0mreshape\u001b[0m\u001b[0;34m(\u001b[0m\u001b[0;36m1\u001b[0m\u001b[0;34m,\u001b[0m \u001b[0;34m-\u001b[0m\u001b[0;36m1\u001b[0m\u001b[0;34m)\u001b[0m\u001b[0;34m[\u001b[0m\u001b[0;36m0\u001b[0m\u001b[0;34m]\u001b[0m\u001b[0;34m\u001b[0m\u001b[0;34m\u001b[0m\u001b[0m\n",
            "\u001b[0;32m/usr/local/lib/python3.6/dist-packages/keras/engine/saving.py\u001b[0m in \u001b[0;36mload_wrapper\u001b[0;34m(*args, **kwargs)\u001b[0m\n\u001b[1;32m    490\u001b[0m                 \u001b[0mos\u001b[0m\u001b[0;34m.\u001b[0m\u001b[0mremove\u001b[0m\u001b[0;34m(\u001b[0m\u001b[0mtmp_filepath\u001b[0m\u001b[0;34m)\u001b[0m\u001b[0;34m\u001b[0m\u001b[0;34m\u001b[0m\u001b[0m\n\u001b[1;32m    491\u001b[0m             \u001b[0;32mreturn\u001b[0m \u001b[0mres\u001b[0m\u001b[0;34m\u001b[0m\u001b[0;34m\u001b[0m\u001b[0m\n\u001b[0;32m--> 492\u001b[0;31m         \u001b[0;32mreturn\u001b[0m \u001b[0mload_function\u001b[0m\u001b[0;34m(\u001b[0m\u001b[0;34m*\u001b[0m\u001b[0margs\u001b[0m\u001b[0;34m,\u001b[0m \u001b[0;34m**\u001b[0m\u001b[0mkwargs\u001b[0m\u001b[0;34m)\u001b[0m\u001b[0;34m\u001b[0m\u001b[0;34m\u001b[0m\u001b[0m\n\u001b[0m\u001b[1;32m    493\u001b[0m \u001b[0;34m\u001b[0m\u001b[0m\n\u001b[1;32m    494\u001b[0m     \u001b[0;32mreturn\u001b[0m \u001b[0mload_wrapper\u001b[0m\u001b[0;34m\u001b[0m\u001b[0;34m\u001b[0m\u001b[0m\n",
            "\u001b[0;32m/usr/local/lib/python3.6/dist-packages/keras/engine/saving.py\u001b[0m in \u001b[0;36mload_model\u001b[0;34m(filepath, custom_objects, compile)\u001b[0m\n\u001b[1;32m    581\u001b[0m \u001b[0;34m\u001b[0m\u001b[0m\n\u001b[1;32m    582\u001b[0m     \u001b[0;32mif\u001b[0m \u001b[0mH5Dict\u001b[0m\u001b[0;34m.\u001b[0m\u001b[0mis_supported_type\u001b[0m\u001b[0;34m(\u001b[0m\u001b[0mfilepath\u001b[0m\u001b[0;34m)\u001b[0m\u001b[0;34m:\u001b[0m\u001b[0;34m\u001b[0m\u001b[0;34m\u001b[0m\u001b[0m\n\u001b[0;32m--> 583\u001b[0;31m         \u001b[0;32mwith\u001b[0m \u001b[0mH5Dict\u001b[0m\u001b[0;34m(\u001b[0m\u001b[0mfilepath\u001b[0m\u001b[0;34m,\u001b[0m \u001b[0mmode\u001b[0m\u001b[0;34m=\u001b[0m\u001b[0;34m'r'\u001b[0m\u001b[0;34m)\u001b[0m \u001b[0;32mas\u001b[0m \u001b[0mh5dict\u001b[0m\u001b[0;34m:\u001b[0m\u001b[0;34m\u001b[0m\u001b[0;34m\u001b[0m\u001b[0m\n\u001b[0m\u001b[1;32m    584\u001b[0m             \u001b[0mmodel\u001b[0m \u001b[0;34m=\u001b[0m \u001b[0m_deserialize_model\u001b[0m\u001b[0;34m(\u001b[0m\u001b[0mh5dict\u001b[0m\u001b[0;34m,\u001b[0m \u001b[0mcustom_objects\u001b[0m\u001b[0;34m,\u001b[0m \u001b[0mcompile\u001b[0m\u001b[0;34m)\u001b[0m\u001b[0;34m\u001b[0m\u001b[0;34m\u001b[0m\u001b[0m\n\u001b[1;32m    585\u001b[0m     \u001b[0;32melif\u001b[0m \u001b[0mhasattr\u001b[0m\u001b[0;34m(\u001b[0m\u001b[0mfilepath\u001b[0m\u001b[0;34m,\u001b[0m \u001b[0;34m'write'\u001b[0m\u001b[0;34m)\u001b[0m \u001b[0;32mand\u001b[0m \u001b[0mcallable\u001b[0m\u001b[0;34m(\u001b[0m\u001b[0mfilepath\u001b[0m\u001b[0;34m.\u001b[0m\u001b[0mwrite\u001b[0m\u001b[0;34m)\u001b[0m\u001b[0;34m:\u001b[0m\u001b[0;34m\u001b[0m\u001b[0;34m\u001b[0m\u001b[0m\n",
            "\u001b[0;32m/usr/local/lib/python3.6/dist-packages/keras/utils/io_utils.py\u001b[0m in \u001b[0;36m__init__\u001b[0;34m(self, path, mode)\u001b[0m\n\u001b[1;32m    189\u001b[0m             \u001b[0mself\u001b[0m\u001b[0;34m.\u001b[0m\u001b[0m_is_file\u001b[0m \u001b[0;34m=\u001b[0m \u001b[0;32mFalse\u001b[0m\u001b[0;34m\u001b[0m\u001b[0;34m\u001b[0m\u001b[0m\n\u001b[1;32m    190\u001b[0m         \u001b[0;32melif\u001b[0m \u001b[0misinstance\u001b[0m\u001b[0;34m(\u001b[0m\u001b[0mpath\u001b[0m\u001b[0;34m,\u001b[0m \u001b[0msix\u001b[0m\u001b[0;34m.\u001b[0m\u001b[0mstring_types\u001b[0m\u001b[0;34m)\u001b[0m \u001b[0;32mor\u001b[0m \u001b[0m_is_path_instance\u001b[0m\u001b[0;34m(\u001b[0m\u001b[0mpath\u001b[0m\u001b[0;34m)\u001b[0m\u001b[0;34m:\u001b[0m\u001b[0;34m\u001b[0m\u001b[0;34m\u001b[0m\u001b[0m\n\u001b[0;32m--> 191\u001b[0;31m             \u001b[0mself\u001b[0m\u001b[0;34m.\u001b[0m\u001b[0mdata\u001b[0m \u001b[0;34m=\u001b[0m \u001b[0mh5py\u001b[0m\u001b[0;34m.\u001b[0m\u001b[0mFile\u001b[0m\u001b[0;34m(\u001b[0m\u001b[0mpath\u001b[0m\u001b[0;34m,\u001b[0m \u001b[0mmode\u001b[0m\u001b[0;34m=\u001b[0m\u001b[0mmode\u001b[0m\u001b[0;34m)\u001b[0m\u001b[0;34m\u001b[0m\u001b[0;34m\u001b[0m\u001b[0m\n\u001b[0m\u001b[1;32m    192\u001b[0m             \u001b[0mself\u001b[0m\u001b[0;34m.\u001b[0m\u001b[0m_is_file\u001b[0m \u001b[0;34m=\u001b[0m \u001b[0;32mTrue\u001b[0m\u001b[0;34m\u001b[0m\u001b[0;34m\u001b[0m\u001b[0m\n\u001b[1;32m    193\u001b[0m         \u001b[0;32melif\u001b[0m \u001b[0misinstance\u001b[0m\u001b[0;34m(\u001b[0m\u001b[0mpath\u001b[0m\u001b[0;34m,\u001b[0m \u001b[0mdict\u001b[0m\u001b[0;34m)\u001b[0m\u001b[0;34m:\u001b[0m\u001b[0;34m\u001b[0m\u001b[0;34m\u001b[0m\u001b[0m\n",
            "\u001b[0;32m/usr/local/lib/python3.6/dist-packages/h5py/_hl/files.py\u001b[0m in \u001b[0;36m__init__\u001b[0;34m(self, name, mode, driver, libver, userblock_size, swmr, rdcc_nslots, rdcc_nbytes, rdcc_w0, track_order, **kwds)\u001b[0m\n\u001b[1;32m    406\u001b[0m                 fid = make_fid(name, mode, userblock_size,\n\u001b[1;32m    407\u001b[0m                                \u001b[0mfapl\u001b[0m\u001b[0;34m,\u001b[0m \u001b[0mfcpl\u001b[0m\u001b[0;34m=\u001b[0m\u001b[0mmake_fcpl\u001b[0m\u001b[0;34m(\u001b[0m\u001b[0mtrack_order\u001b[0m\u001b[0;34m=\u001b[0m\u001b[0mtrack_order\u001b[0m\u001b[0;34m)\u001b[0m\u001b[0;34m,\u001b[0m\u001b[0;34m\u001b[0m\u001b[0;34m\u001b[0m\u001b[0m\n\u001b[0;32m--> 408\u001b[0;31m                                swmr=swmr)\n\u001b[0m\u001b[1;32m    409\u001b[0m \u001b[0;34m\u001b[0m\u001b[0m\n\u001b[1;32m    410\u001b[0m             \u001b[0;32mif\u001b[0m \u001b[0misinstance\u001b[0m\u001b[0;34m(\u001b[0m\u001b[0mlibver\u001b[0m\u001b[0;34m,\u001b[0m \u001b[0mtuple\u001b[0m\u001b[0;34m)\u001b[0m\u001b[0;34m:\u001b[0m\u001b[0;34m\u001b[0m\u001b[0;34m\u001b[0m\u001b[0m\n",
            "\u001b[0;32m/usr/local/lib/python3.6/dist-packages/h5py/_hl/files.py\u001b[0m in \u001b[0;36mmake_fid\u001b[0;34m(name, mode, userblock_size, fapl, fcpl, swmr)\u001b[0m\n\u001b[1;32m    171\u001b[0m         \u001b[0;32mif\u001b[0m \u001b[0mswmr\u001b[0m \u001b[0;32mand\u001b[0m \u001b[0mswmr_support\u001b[0m\u001b[0;34m:\u001b[0m\u001b[0;34m\u001b[0m\u001b[0;34m\u001b[0m\u001b[0m\n\u001b[1;32m    172\u001b[0m             \u001b[0mflags\u001b[0m \u001b[0;34m|=\u001b[0m \u001b[0mh5f\u001b[0m\u001b[0;34m.\u001b[0m\u001b[0mACC_SWMR_READ\u001b[0m\u001b[0;34m\u001b[0m\u001b[0;34m\u001b[0m\u001b[0m\n\u001b[0;32m--> 173\u001b[0;31m         \u001b[0mfid\u001b[0m \u001b[0;34m=\u001b[0m \u001b[0mh5f\u001b[0m\u001b[0;34m.\u001b[0m\u001b[0mopen\u001b[0m\u001b[0;34m(\u001b[0m\u001b[0mname\u001b[0m\u001b[0;34m,\u001b[0m \u001b[0mflags\u001b[0m\u001b[0;34m,\u001b[0m \u001b[0mfapl\u001b[0m\u001b[0;34m=\u001b[0m\u001b[0mfapl\u001b[0m\u001b[0;34m)\u001b[0m\u001b[0;34m\u001b[0m\u001b[0;34m\u001b[0m\u001b[0m\n\u001b[0m\u001b[1;32m    174\u001b[0m     \u001b[0;32melif\u001b[0m \u001b[0mmode\u001b[0m \u001b[0;34m==\u001b[0m \u001b[0;34m'r+'\u001b[0m\u001b[0;34m:\u001b[0m\u001b[0;34m\u001b[0m\u001b[0;34m\u001b[0m\u001b[0m\n\u001b[1;32m    175\u001b[0m         \u001b[0mfid\u001b[0m \u001b[0;34m=\u001b[0m \u001b[0mh5f\u001b[0m\u001b[0;34m.\u001b[0m\u001b[0mopen\u001b[0m\u001b[0;34m(\u001b[0m\u001b[0mname\u001b[0m\u001b[0;34m,\u001b[0m \u001b[0mh5f\u001b[0m\u001b[0;34m.\u001b[0m\u001b[0mACC_RDWR\u001b[0m\u001b[0;34m,\u001b[0m \u001b[0mfapl\u001b[0m\u001b[0;34m=\u001b[0m\u001b[0mfapl\u001b[0m\u001b[0;34m)\u001b[0m\u001b[0;34m\u001b[0m\u001b[0;34m\u001b[0m\u001b[0m\n",
            "\u001b[0;32mh5py/_objects.pyx\u001b[0m in \u001b[0;36mh5py._objects.with_phil.wrapper\u001b[0;34m()\u001b[0m\n",
            "\u001b[0;32mh5py/_objects.pyx\u001b[0m in \u001b[0;36mh5py._objects.with_phil.wrapper\u001b[0;34m()\u001b[0m\n",
            "\u001b[0;32mh5py/h5f.pyx\u001b[0m in \u001b[0;36mh5py.h5f.open\u001b[0;34m()\u001b[0m\n",
            "\u001b[0;31mOSError\u001b[0m: Unable to open file (unable to open file: name = '/content/gdrive/My Drive/pneumonia/models//.ipynb_checkpoints', errno = 2, error message = 'No such file or directory', flags = 0, o_flags = 0)"
          ]
        }
      ]
    }
  ]
}