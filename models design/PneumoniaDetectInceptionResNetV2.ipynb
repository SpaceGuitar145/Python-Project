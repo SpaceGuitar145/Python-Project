{
  "nbformat": 4,
  "nbformat_minor": 0,
  "metadata": {
    "colab": {
      "name": "PneumoniaDetectInceptionResNetV2.ipynb",
      "provenance": [],
      "collapsed_sections": [],
      "toc_visible": true,
      "machine_shape": "hm"
    },
    "kernelspec": {
      "name": "python3",
      "display_name": "Python 3"
    },
    "accelerator": "GPU"
  },
  "cells": [
    {
      "cell_type": "markdown",
      "metadata": {
        "id": "i-fes2Zjw5b9",
        "colab_type": "text"
      },
      "source": [
        "Add google disk"
      ]
    },
    {
      "cell_type": "code",
      "metadata": {
        "id": "cGdGmTl-sKXm",
        "colab_type": "code",
        "colab": {
          "base_uri": "https://localhost:8080/",
          "height": 122
        },
        "outputId": "ac47775b-852f-492f-db40-74de4592bc9d"
      },
      "source": [
        "from google.colab import drive\n",
        "drive.mount('/content/gdrive')"
      ],
      "execution_count": null,
      "outputs": [
        {
          "output_type": "stream",
          "text": [
            "Go to this URL in a browser: https://accounts.google.com/o/oauth2/auth?client_id=947318989803-6bn6qk8qdgf4n4g3pfee6491hc0brc4i.apps.googleusercontent.com&redirect_uri=urn%3aietf%3awg%3aoauth%3a2.0%3aoob&response_type=code&scope=email%20https%3a%2f%2fwww.googleapis.com%2fauth%2fdocs.test%20https%3a%2f%2fwww.googleapis.com%2fauth%2fdrive%20https%3a%2f%2fwww.googleapis.com%2fauth%2fdrive.photos.readonly%20https%3a%2f%2fwww.googleapis.com%2fauth%2fpeopleapi.readonly\n",
            "\n",
            "Enter your authorization code:\n",
            "··········\n",
            "Mounted at /content/gdrive\n"
          ],
          "name": "stdout"
        }
      ]
    },
    {
      "cell_type": "markdown",
      "metadata": {
        "id": "XtJkcrhBqvAm",
        "colab_type": "text"
      },
      "source": [
        "Import libraries"
      ]
    },
    {
      "cell_type": "code",
      "metadata": {
        "id": "WXV2A0LiqzNm",
        "colab_type": "code",
        "colab": {
          "base_uri": "https://localhost:8080/",
          "height": 51
        },
        "outputId": "06d5e5f9-3618-43a9-ace1-d15398e1bc44"
      },
      "source": [
        "import numpy as np\n",
        "import keras\n",
        "from keras import applications, Sequential, Model, optimizers, models\n",
        "from keras.callbacks import ReduceLROnPlateau, EarlyStopping, History\n",
        "from keras.layers import Flatten, Dense, Dropout, Conv2D, MaxPooling2D, BatchNormalization\n",
        "from keras.regularizers import l1_l2\n",
        "from keras.preprocessing.image import ImageDataGenerator\n",
        "from keras.utils import to_categorical\n",
        "from tqdm import tqdm\n",
        "import os\n",
        "import h5py\n",
        "from PIL import Image\n",
        "import matplotlib.pyplot as plt\n",
        "import seaborn as sns"
      ],
      "execution_count": 1,
      "outputs": [
        {
          "output_type": "stream",
          "text": [
            "/usr/local/lib/python3.6/dist-packages/statsmodels/tools/_testing.py:19: FutureWarning: pandas.util.testing is deprecated. Use the functions in the public API at pandas.testing instead.\n",
            "  import pandas.util.testing as tm\n"
          ],
          "name": "stderr"
        }
      ]
    },
    {
      "cell_type": "markdown",
      "metadata": {
        "id": "Y20XxIFUq1DG",
        "colab_type": "text"
      },
      "source": [
        "Variables with train and test directories. \n",
        "Some constant variables."
      ]
    },
    {
      "cell_type": "code",
      "metadata": {
        "id": "W2XmpPN4q2rU",
        "colab_type": "code",
        "colab": {}
      },
      "source": [
        "trainInput = \"/content/gdrive/My Drive/pneumonia/chest_xray/chest_xray/train/\"\n",
        "testInput = \"/content/gdrive/My Drive/pneumonia/chest_xray/chest_xray/test/\"\n",
        "validationInput = \"/content/gdrive/My Drive/pneumonia/chest_xray/chest_xray/val/\"\n",
        "size = 199\n",
        "epochs = 3\n",
        "fileName = \"/content/gdrive/My Drive/pneumonia/images.h5\"\n",
        "modelsDir = \"/content/gdrive/My Drive/pneumonia/model1/\""
      ],
      "execution_count": null,
      "outputs": []
    },
    {
      "cell_type": "code",
      "metadata": {
        "id": "MDL1eym4q30E",
        "colab_type": "code",
        "colab": {}
      },
      "source": [
        "# keras.utils.normalize\n",
        "def extractData(directory):\n",
        "    labels = []\n",
        "    images = []\n",
        "\n",
        "    for nextDirectory in os.listdir(directory):\n",
        "        if not nextDirectory.startswith(\".\"):\n",
        "            if nextDirectory in \"NORMAL\":\n",
        "                label = 0\n",
        "            elif nextDirectory in \"PNEUMONIA\":\n",
        "                label = 1\n",
        "            else:\n",
        "                label = 2\n",
        "\n",
        "            currentDirectory = directory + nextDirectory\n",
        "            if not currentDirectory.startswith(\".\"):\n",
        "                for files in tqdm(os.listdir(currentDirectory)):\n",
        "                    if files.endswith('.jpg') or files.endswith('.jpeg'):\n",
        "                        imagePath = currentDirectory + \"/\" + files\n",
        "                        img = Image.open(imagePath)\n",
        "                        img = img.resize((size, size)).convert(\"RGB\")\n",
        "                        data = np.array(img.getdata())\n",
        "                        img = 2 * (data.reshape((img.size[0], img.size[1], 3)).astype(np.float32) / 255) - 1\n",
        "                        images.append(img)\n",
        "                        labels.append(label)\n",
        "\n",
        "    labels = np.asarray(labels)\n",
        "\n",
        "    if directory is trainInput:\n",
        "        out = h5py.File(fileName, \"a\")\n",
        "        out.create_dataset(\"imagesTrain\", data=images)\n",
        "        out.create_dataset(\"labelsTrain\", data=labels)\n",
        "        out.close()\n",
        "    elif directory is testInput:\n",
        "        out = h5py.File(fileName, \"a\")\n",
        "        out.create_dataset(\"imagesTest\", data=images)\n",
        "        out.create_dataset(\"labelsTest\", data=labels)\n",
        "        out.close()\n",
        "    elif directory is validationInput:\n",
        "        out = h5py.File(fileName, \"a\")\n",
        "        out.create_dataset(\"imagesValidation\", data=images)\n",
        "        out.create_dataset(\"labelsValidation\", data=labels)\n",
        "        out.close()\n",
        "    else:\n",
        "        pass"
      ],
      "execution_count": null,
      "outputs": []
    },
    {
      "cell_type": "code",
      "metadata": {
        "id": "l5SZ9s-IvZz5",
        "colab_type": "code",
        "colab": {
          "base_uri": "https://localhost:8080/",
          "height": 126
        },
        "outputId": "2e5aee94-9674-452f-ee1e-02bc29f695a2"
      },
      "source": [
        "extractData(trainInput)\n",
        "extractData(testInput)\n",
        "extractData(validationInput)"
      ],
      "execution_count": null,
      "outputs": [
        {
          "output_type": "stream",
          "text": [
            "100%|██████████| 1342/1342 [09:05<00:00,  2.46it/s]\n",
            "100%|██████████| 3876/3876 [24:30<00:00,  2.64it/s]\n",
            "100%|██████████| 234/234 [01:33<00:00,  2.51it/s]\n",
            "100%|██████████| 390/390 [02:27<00:00,  2.64it/s]\n",
            "100%|██████████| 9/9 [00:00<00:00, 20.21it/s]\n",
            "100%|██████████| 9/9 [00:00<00:00, 25.17it/s]\n"
          ],
          "name": "stderr"
        }
      ]
    },
    {
      "cell_type": "markdown",
      "metadata": {
        "id": "BNA2rFbN9m1j",
        "colab_type": "text"
      },
      "source": [
        "Get the images and labels"
      ]
    },
    {
      "cell_type": "code",
      "metadata": {
        "id": "ZnTukdAeb0dL",
        "colab_type": "code",
        "colab": {
          "base_uri": "https://localhost:8080/",
          "height": 34
        },
        "outputId": "9922e680-0841-4a3d-be4a-7e5db4df524e"
      },
      "source": [
        "x = h5py.File(fileName, \"r\")[\"imagesTrain\"][:]\n",
        "print(x.shape)"
      ],
      "execution_count": null,
      "outputs": [
        {
          "output_type": "stream",
          "text": [
            "(5216, 199, 199, 3)\n"
          ],
          "name": "stdout"
        }
      ]
    },
    {
      "cell_type": "code",
      "metadata": {
        "id": "RdrcPl01q5KE",
        "colab_type": "code",
        "colab": {}
      },
      "source": [
        "dset = h5py.File(fileName, \"r\")\n",
        "labelsTrain, imagesTrain, labelsTest, imagesTest, labelsValidation, imagesValidation = dset[\"labelsTrain\"][:], dset[\"imagesTrain\"][:], dset[\"labelsTest\"][:], dset[\"imagesTest\"][:], dset[\"labelsValidation\"][:], dset[\"imagesValidation\"][:]"
      ],
      "execution_count": null,
      "outputs": []
    },
    {
      "cell_type": "markdown",
      "metadata": {
        "id": "M81QETYCSSdf",
        "colab_type": "text"
      },
      "source": [
        "Reshape if fit_generator dont work"
      ]
    },
    {
      "cell_type": "code",
      "metadata": {
        "id": "9OavjTzoSTU2",
        "colab_type": "code",
        "colab": {
          "base_uri": "https://localhost:8080/",
          "height": 51
        },
        "outputId": "6f2923af-98b0-444e-f977-84535bea1cc0"
      },
      "source": [
        "labelsTrain = to_categorical(labelsTrain, 2)\n",
        "labelsTest = to_categorical(labelsTest, 2)\n",
        "labelsValidation = to_categorical(labelsValidation, 2)\n",
        "print(\"Train:\", imagesTrain.shape, \"Test:\", imagesTest.shape, \"Validation:\", imagesValidation.shape)\n",
        "print(\"Train:\", labelsTrain.shape, \"Test:\", labelsTest.shape, \"Validation:\", labelsValidation.shape)"
      ],
      "execution_count": null,
      "outputs": [
        {
          "output_type": "stream",
          "text": [
            "Train: (5216, 199, 199, 3) Test: (624, 199, 199, 3) Validation: (16, 199, 199, 3)\n",
            "Train: (5216, 2) Test: (624, 2) Validation: (16, 2)\n"
          ],
          "name": "stdout"
        }
      ]
    },
    {
      "cell_type": "markdown",
      "metadata": {
        "id": "uAo1519Ht-YQ",
        "colab_type": "text"
      },
      "source": [
        "Add an model, the weights can be none or imagenet. Imagenet is pre-trained on ImageNet.     \n",
        "include_top is set False in order to exclude the last three layers (including the final softmax layer with 200 classes of output)"
      ]
    },
    {
      "cell_type": "markdown",
      "metadata": {
        "id": "JKxNKry6Fk6e",
        "colab_type": "text"
      },
      "source": [
        "This callback monitors a quantity and if no improvement is seen for a 'patience' number of epochs, the learning rate is reduced.\n",
        "Reduce learning rate when a metric has stopped improving."
      ]
    },
    {
      "cell_type": "markdown",
      "metadata": {
        "id": "iTPxoU9Y0uZv",
        "colab_type": "text"
      },
      "source": [
        "Flatten() layer to flatten the tensor output. Dense is 2D layer which support the specification of their input shape. relu and softmax are different activations which used with layers, either can be used by activation layers. Activations: https://keras.io/activations/. Optimizers: https://keras.io/optimizers/. Losses: https://keras.io/losses/. Metrics: https://keras.io/metrics/. Compilation: https://keras.io/getting-started/sequential-model-guide/."
      ]
    },
    {
      "cell_type": "markdown",
      "metadata": {
        "id": "9AkYHdHbNvF0",
        "colab_type": "text"
      },
      "source": [
        "Measure time and creation of fit_generator: https://keras.io/models/model/#fit_generator , https://keras.io/models/model/#fit"
      ]
    },
    {
      "cell_type": "markdown",
      "metadata": {
        "id": "JK0KrMa7QXFl",
        "colab_type": "text"
      },
      "source": [
        "Save the model"
      ]
    },
    {
      "cell_type": "code",
      "metadata": {
        "id": "YjJbB5BVb5Uu",
        "colab_type": "code",
        "colab": {}
      },
      "source": [
        "reduceLearningRate = ReduceLROnPlateau(monitor='loss', factor=0.1, patience=2, cooldown=2, min_lr=0.001, verbose=1)\n",
        "# reduceLearningRate = ReduceLROnPlateau(monitor='val_acc', factor=0.1, epsilon=0.0001, patience=1, verbose=1) \n",
        "earlyStop = EarlyStopping(monitor='val_loss', patience=5, verbose=1)\n",
        "callbacks = [reduceLearningRate, earlyStop]"
      ],
      "execution_count": null,
      "outputs": []
    },
    {
      "cell_type": "code",
      "metadata": {
        "id": "D70_PNd8dAB3",
        "colab_type": "code",
        "colab": {}
      },
      "source": [
        "datagen = ImageDataGenerator(\n",
        "    zoom_range=0.1,\n",
        "    height_shift_range=0.1,\n",
        "    width_shift_range=0.1,\n",
        "    rotation_range=10\n",
        ")"
      ],
      "execution_count": null,
      "outputs": []
    },
    {
      "cell_type": "code",
      "metadata": {
        "id": "JvphCiBO6XG7",
        "colab_type": "code",
        "colab": {}
      },
      "source": [
        "def trainModel(model, name):\n",
        "  global history\n",
        "  pattern = model(weights=\"imagenet\", include_top=False, input_shape=[size, size, 3])\n",
        "\n",
        "  addModel = Sequential()\n",
        "\n",
        "  addModel.add(Flatten(input_shape=pattern.output_shape[1:]))\n",
        "  addModel.add(BatchNormalization())\n",
        "  addModel.add(Dense(256, activation=\"relu\"))\n",
        "  addModel.add(Dropout(0.15))\n",
        "  addModel.add(Dense(512, activation=\"relu\"))\n",
        "  addModel.add(Dropout(0.35))\n",
        "  addModel.add(Dense(2, activation=\"softmax\"))\n",
        "\n",
        "  md = Model(inputs=pattern.input, outputs=addModel(pattern.output))\n",
        "  md.compile(loss=\"categorical_crossentropy\", \n",
        "                  optimizer=optimizers.SGD(learning_rate=0.01, momentum=0.9), \n",
        "                  metrics=[\"accuracy\"])\n",
        "  \n",
        "  history = md.fit(datagen.flow(imagesTrain, labelsTrain, batch_size=32),\n",
        "                   validation_data=datagen.flow(imagesTest, labelsTest),\n",
        "                   callbacks=callbacks, epochs=epochs, verbose=1)\n",
        "  \n",
        "  md.save(modelsDir + name + \".h5\")"
      ],
      "execution_count": null,
      "outputs": []
    },
    {
      "cell_type": "code",
      "metadata": {
        "id": "DyuzSVPr6mVH",
        "colab_type": "code",
        "colab": {
          "base_uri": "https://localhost:8080/",
          "height": 119
        },
        "outputId": "4ae550d6-7a77-48d4-b21a-9c5807a2625b"
      },
      "source": [
        "trainModel(applications.InceptionResNetV2, \"InceptionResNetV2\")"
      ],
      "execution_count": null,
      "outputs": [
        {
          "output_type": "stream",
          "text": [
            "Epoch 1/3\n",
            "163/163 [==============================] - 54s 330ms/step - loss: 0.4538 - accuracy: 0.8915 - val_loss: 0.8849 - val_accuracy: 0.7853\n",
            "Epoch 2/3\n",
            "163/163 [==============================] - 52s 321ms/step - loss: 0.1616 - accuracy: 0.9490 - val_loss: 0.7075 - val_accuracy: 0.7628\n",
            "Epoch 3/3\n",
            "163/163 [==============================] - 51s 316ms/step - loss: 0.1140 - accuracy: 0.9561 - val_loss: 0.6091 - val_accuracy: 0.8862\n"
          ],
          "name": "stdout"
        }
      ]
    },
    {
      "cell_type": "markdown",
      "metadata": {
        "id": "4rcIRzAzl3bl",
        "colab_type": "text"
      },
      "source": [
        "# InceptionResNetV2 results"
      ]
    },
    {
      "cell_type": "code",
      "metadata": {
        "id": "_TUX8gW4ivG0",
        "colab_type": "code",
        "colab": {
          "base_uri": "https://localhost:8080/",
          "height": 295
        },
        "outputId": "13cd1f56-0a9f-4ed7-9ba7-920dbce90ea3"
      },
      "source": [
        "plt.plot(history.history[\"accuracy\"], color=\"b\", label=\"Accuracy\")\n",
        "plt.plot(history.history[\"val_accuracy\"], color=\"g\", label=\"Validation accuracy\")\n",
        "plt.legend(loc=\"lower right\", frameon=False)\n",
        "plt.title(\"Accuracy of the InceptionResNetV2 model\")\n",
        "plt.xlabel(\"Epochs\")\n",
        "plt.ylabel(\"Effectiveness\")\n",
        "plt.show()"
      ],
      "execution_count": null,
      "outputs": [
        {
          "output_type": "display_data",
          "data": {
            "image/png": "[encoded data removed]",
            "text/plain": [
              "<Figure size 432x288 with 1 Axes>"
            ]
          },
          "metadata": {
            "tags": [],
            "needs_background": "light"
          }
        }
      ]
    },
    {
      "cell_type": "code",
      "metadata": {
        "id": "nc-8S_y3kgAi",
        "colab_type": "code",
        "colab": {
          "base_uri": "https://localhost:8080/",
          "height": 295
        },
        "outputId": "0c3a298a-8af4-44dd-9603-97f74b63937b"
      },
      "source": [
        "plt.plot(history.history[\"loss\"], color=\"r\", label=\"Loss\")\n",
        "plt.plot(history.history[\"val_loss\"], color=\"m\", label=\"Validation loss\")\n",
        "plt.legend(loc=\"upper right\", frameon=False)\n",
        "plt.title(\"Loss of the InceptionResNetV2 model\")\n",
        "plt.xlabel(\"Epochs\")\n",
        "plt.ylabel(\"Effectiveness\")\n",
        "plt.show()"
      ],
      "execution_count": null,
      "outputs": [
        {
          "output_type": "display_data",
          "data": {
            "image/png": "[encoded data removed]",
            "text/plain": [
              "<Figure size 432x288 with 1 Axes>"
            ]
          },
          "metadata": {
            "tags": [],
            "needs_background": "light"
          }
        }
      ]
    },
    {
      "cell_type": "markdown",
      "metadata": {
        "id": "CamtYWuASxqC",
        "colab_type": "text"
      },
      "source": [
        "Load model and prediction"
      ]
    },
    {
      "cell_type": "code",
      "metadata": {
        "id": "SUxd3IwQhI6O",
        "colab_type": "code",
        "colab": {}
      },
      "source": [
        "def prepareTestImages(dir_test_image):\n",
        "\n",
        "    labels = []\n",
        "    images = []\n",
        "\n",
        "    for nextDirectory in os.listdir(dir_test_image):\n",
        "        if not nextDirectory.startswith(\".\"):\n",
        "            if nextDirectory in \"NORMAL\":\n",
        "                label = 0\n",
        "            elif nextDirectory in \"PNEUMONIA\":\n",
        "                label = 1\n",
        "            else:\n",
        "                label = 2\n",
        "\n",
        "            currentDirectory = dir_test_image + nextDirectory\n",
        "            if not currentDirectory.startswith(\".\"):\n",
        "                for files in os.listdir(currentDirectory):\n",
        "                    if files.endswith('.jpg') or files.endswith('.jpeg'):\n",
        "                        imagePath = currentDirectory + \"/\" + files\n",
        "                        img = Image.open(imagePath)\n",
        "                        img = img.resize((size, size)).convert(\"RGB\")\n",
        "                        data = np.array(img.getdata())\n",
        "                        img = 2 * (data.reshape((img.size[0], img.size[1], 3)).astype(np.float32) / 255) - 1\n",
        "                        images.append(img)\n",
        "                        labels.append(label)\n",
        "\n",
        "    labels = np.asarray(labels)\n",
        "\n",
        "    out = h5py.File(\"/content/gdrive/My Drive/pneumonia/imagesTest.h5\", \"a\")\n",
        "    out.create_dataset(\"imagesTest\", data=images)\n",
        "    out.create_dataset(\"labelsTest\", data=labels)\n",
        "    out.close()"
      ],
      "execution_count": null,
      "outputs": []
    },
    {
      "cell_type": "code",
      "metadata": {
        "id": "hI-rHfIfhUuv",
        "colab_type": "code",
        "colab": {}
      },
      "source": [
        "prepareTestImages(\"/content/gdrive/My Drive/pneumonia/test/\")"
      ],
      "execution_count": null,
      "outputs": []
    },
    {
      "cell_type": "code",
      "metadata": {
        "id": "208qXdBkhdCb",
        "colab_type": "code",
        "colab": {}
      },
      "source": [
        "dset = h5py.File(\"/content/gdrive/My Drive/pneumonia/imagesTest.h5\", \"r\")\n",
        "imagesTmp = dset[\"imagesTest\"][:]\n",
        "labelsTmp = dset[\"labelsTest\"][:]"
      ],
      "execution_count": null,
      "outputs": []
    },
    {
      "cell_type": "code",
      "metadata": {
        "id": "-70Pw2v1jDG7",
        "colab_type": "code",
        "colab": {}
      },
      "source": [
        "def modelsTest(modelsDir):\n",
        "\n",
        "  modelStat = {}\n",
        "\n",
        "  for modelPath in os.listdir(modelsDir):\n",
        "    if not modelPath.startswith(\".\"):\n",
        "      dirModel = modelsDir + \"/\" + modelPath\n",
        "      name = modelPath.split(\".\")[0]\n",
        "      model = models.load_model(dirModel)\n",
        "      predictions = model.predict(imagesTmp[:])\n",
        "      accuracy = 0\n",
        "\n",
        "      for i in range(len(predictions)):\n",
        "        if labelsTmp[i] == np.argmax(predictions[i]):\n",
        "          accuracy += 1\n",
        "      modelStat[name] = accuracy/len(predictions)*100\n",
        "\n",
        "  for key, value in modelStat.items():\n",
        "    print(\"Model is {}\\nAccuracy of predictions is: {}%\".format(key, value))\n",
        "\n",
        "  _, ax = plt.subplots()\n",
        "  ax.bar(modelStat.keys(), modelStat.values(), color='#539caf', align=\"center\")\n",
        "  ax.set_ylabel(\"Accuracy\")\n",
        "  ax.set_xlabel(\"Models\")\n",
        "  plt.savefig(\"test_stat.png\")\n",
        "   "
      ],
      "execution_count": null,
      "outputs": []
    },
    {
      "cell_type": "code",
      "metadata": {
        "id": "2A0jYRZHiTbG",
        "colab_type": "code",
        "colab": {
          "base_uri": "https://localhost:8080/",
          "height": 313
        },
        "outputId": "63e24e52-5bce-4a8b-da1e-571ea2e794ce"
      },
      "source": [
        "modelsTest(modelsDir)"
      ],
      "execution_count": null,
      "outputs": [
        {
          "output_type": "stream",
          "text": [
            "Model is InceptionResNetV2\n",
            "Accuracy of predictions is: 92.46794871794873%\n"
          ],
          "name": "stdout"
        },
        {
          "output_type": "display_data",
          "data": {
            "image/png": "[encoded data removed]",
            "text/plain": [
              "<Figure size 432x288 with 1 Axes>"
            ]
          },
          "metadata": {
            "tags": [],
            "needs_background": "light"
          }
        }
      ]
    }
  ]
}